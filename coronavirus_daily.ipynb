{
 "cells": [
  {
   "cell_type": "markdown",
   "metadata": {},
   "source": [
    "# Data Science Coronavírus\n",
    "\n",
    "### Importando as bibliotecas para processamento"
   ]
  },
  {
   "cell_type": "code",
   "execution_count": 1,
   "metadata": {},
   "outputs": [],
   "source": [
    "import pandas as pd\n",
    "import numpy as np\n",
    "from datetime import date\n"
   ]
  },
  {
   "cell_type": "markdown",
   "metadata": {},
   "source": [
    "### Pegando o dia de hoje"
   ]
  },
  {
   "cell_type": "code",
   "execution_count": 2,
   "metadata": {},
   "outputs": [],
   "source": [
    "from datetime import date\n",
    "dia = (date.today())\n",
    "dia = str(dia)\n",
    "dia = dia[-2:]\n",
    "dia = int(dia)"
   ]
  },
  {
   "cell_type": "markdown",
   "metadata": {},
   "source": [
    "### Armazenando os Links do Dataset em uma Lista"
   ]
  },
  {
   "cell_type": "code",
   "execution_count": 3,
   "metadata": {},
   "outputs": [],
   "source": [
    "#Base de dados\n",
    "#https://github.com/CSSEGISandData/COVID-19/tree/master/csse_covid_19_data?fbclid=IwAR1C6Cf_k5bpeEF5v1I9G-OlXeMZd0B1JreUw4ayc5tuOLYVSKvyunFaam8\n",
    "data = str(date.today())\n",
    "\n",
    "base_url = 'https://raw.githubusercontent.com/CSSEGISandData/COVID-19/master/csse_covid_19_data/csse_covid_19_daily_reports'\n",
    "lista_links = []\n",
    "#Pegando os links do mês de janeiro\n",
    "for c in range(22, 32):\n",
    "    lista_links.append(str(base_url+f'/01-{c}-2020.csv'))\n",
    "#Pegando os links do mês de fevereiro\n",
    "for c in range(1, 30):\n",
    "    if c <= 9:\n",
    "        lista_links.append(str(base_url+f'/02-0{c}-2020.csv'))\n",
    "    else:\n",
    "        lista_links.append(str(base_url+f'/02-{c}-2020.csv'))\n",
    "#Pegando os links do mês de março\n",
    "for c in range(1, dia-1):\n",
    "    if c <= 9:\n",
    "        lista_links.append(str(base_url+f'/03-0{c}-2020.csv'))\n",
    "    else:\n",
    "        lista_links.append(str(base_url+f'/03-{c}-2020.csv'))"
   ]
  },
  {
   "cell_type": "markdown",
   "metadata": {},
   "source": [
    "### Convertendo os Links em um Dataframe e Armazenando em uma Lista"
   ]
  },
  {
   "cell_type": "code",
   "execution_count": 4,
   "metadata": {},
   "outputs": [],
   "source": [
    "lista = []\n",
    "for c in lista_links:\n",
    "    dados = pd.read_csv(c)\n",
    "    np.array(dados)\n",
    "    lista.append(dados)"
   ]
  },
  {
   "cell_type": "markdown",
   "metadata": {},
   "source": [
    "### Visualizando e Descrevendo os Dados "
   ]
  },
  {
   "cell_type": "code",
   "execution_count": 5,
   "metadata": {},
   "outputs": [
    {
     "data": {
      "text/html": [
       "<div>\n",
       "<style scoped>\n",
       "    .dataframe tbody tr th:only-of-type {\n",
       "        vertical-align: middle;\n",
       "    }\n",
       "\n",
       "    .dataframe tbody tr th {\n",
       "        vertical-align: top;\n",
       "    }\n",
       "\n",
       "    .dataframe thead th {\n",
       "        text-align: right;\n",
       "    }\n",
       "</style>\n",
       "<table border=\"1\" class=\"dataframe\">\n",
       "  <thead>\n",
       "    <tr style=\"text-align: right;\">\n",
       "      <th></th>\n",
       "      <th>Province/State</th>\n",
       "      <th>Country/Region</th>\n",
       "      <th>Last Update</th>\n",
       "      <th>Confirmed</th>\n",
       "      <th>Deaths</th>\n",
       "      <th>Recovered</th>\n",
       "    </tr>\n",
       "  </thead>\n",
       "  <tbody>\n",
       "    <tr>\n",
       "      <td>0</td>\n",
       "      <td>Anhui</td>\n",
       "      <td>Mainland China</td>\n",
       "      <td>1/22/2020 17:00</td>\n",
       "      <td>1.0</td>\n",
       "      <td>NaN</td>\n",
       "      <td>NaN</td>\n",
       "    </tr>\n",
       "    <tr>\n",
       "      <td>1</td>\n",
       "      <td>Beijing</td>\n",
       "      <td>Mainland China</td>\n",
       "      <td>1/22/2020 17:00</td>\n",
       "      <td>14.0</td>\n",
       "      <td>NaN</td>\n",
       "      <td>NaN</td>\n",
       "    </tr>\n",
       "    <tr>\n",
       "      <td>2</td>\n",
       "      <td>Chongqing</td>\n",
       "      <td>Mainland China</td>\n",
       "      <td>1/22/2020 17:00</td>\n",
       "      <td>6.0</td>\n",
       "      <td>NaN</td>\n",
       "      <td>NaN</td>\n",
       "    </tr>\n",
       "    <tr>\n",
       "      <td>3</td>\n",
       "      <td>Fujian</td>\n",
       "      <td>Mainland China</td>\n",
       "      <td>1/22/2020 17:00</td>\n",
       "      <td>1.0</td>\n",
       "      <td>NaN</td>\n",
       "      <td>NaN</td>\n",
       "    </tr>\n",
       "    <tr>\n",
       "      <td>4</td>\n",
       "      <td>Gansu</td>\n",
       "      <td>Mainland China</td>\n",
       "      <td>1/22/2020 17:00</td>\n",
       "      <td>NaN</td>\n",
       "      <td>NaN</td>\n",
       "      <td>NaN</td>\n",
       "    </tr>\n",
       "  </tbody>\n",
       "</table>\n",
       "</div>"
      ],
      "text/plain": [
       "  Province/State  Country/Region      Last Update  Confirmed  Deaths  \\\n",
       "0          Anhui  Mainland China  1/22/2020 17:00        1.0     NaN   \n",
       "1        Beijing  Mainland China  1/22/2020 17:00       14.0     NaN   \n",
       "2      Chongqing  Mainland China  1/22/2020 17:00        6.0     NaN   \n",
       "3         Fujian  Mainland China  1/22/2020 17:00        1.0     NaN   \n",
       "4          Gansu  Mainland China  1/22/2020 17:00        NaN     NaN   \n",
       "\n",
       "   Recovered  \n",
       "0        NaN  \n",
       "1        NaN  \n",
       "2        NaN  \n",
       "3        NaN  \n",
       "4        NaN  "
      ]
     },
     "execution_count": 5,
     "metadata": {},
     "output_type": "execute_result"
    }
   ],
   "source": [
    "#Vamos visualizar uma tabela individualmente para observamos as suas colunas \n",
    "lista[0].head()"
   ]
  },
  {
   "cell_type": "code",
   "execution_count": 6,
   "metadata": {},
   "outputs": [
    {
     "name": "stdout",
     "output_type": "stream",
     "text": [
      "<class 'pandas.core.frame.DataFrame'>\n",
      "RangeIndex: 38 entries, 0 to 37\n",
      "Data columns (total 6 columns):\n",
      "Province/State    35 non-null object\n",
      "Country/Region    38 non-null object\n",
      "Last Update       38 non-null object\n",
      "Confirmed         29 non-null float64\n",
      "Deaths            1 non-null float64\n",
      "Recovered         1 non-null float64\n",
      "dtypes: float64(3), object(3)\n",
      "memory usage: 1.9+ KB\n"
     ]
    }
   ],
   "source": [
    "lista[0].info()"
   ]
  },
  {
   "cell_type": "code",
   "execution_count": 7,
   "metadata": {},
   "outputs": [
    {
     "data": {
      "text/html": [
       "<div>\n",
       "<style scoped>\n",
       "    .dataframe tbody tr th:only-of-type {\n",
       "        vertical-align: middle;\n",
       "    }\n",
       "\n",
       "    .dataframe tbody tr th {\n",
       "        vertical-align: top;\n",
       "    }\n",
       "\n",
       "    .dataframe thead th {\n",
       "        text-align: right;\n",
       "    }\n",
       "</style>\n",
       "<table border=\"1\" class=\"dataframe\">\n",
       "  <thead>\n",
       "    <tr style=\"text-align: right;\">\n",
       "      <th></th>\n",
       "      <th>Confirmed</th>\n",
       "      <th>Deaths</th>\n",
       "      <th>Recovered</th>\n",
       "    </tr>\n",
       "  </thead>\n",
       "  <tbody>\n",
       "    <tr>\n",
       "      <td>count</td>\n",
       "      <td>29.00</td>\n",
       "      <td>1.0</td>\n",
       "      <td>1.0</td>\n",
       "    </tr>\n",
       "    <tr>\n",
       "      <td>mean</td>\n",
       "      <td>19.14</td>\n",
       "      <td>17.0</td>\n",
       "      <td>28.0</td>\n",
       "    </tr>\n",
       "    <tr>\n",
       "      <td>std</td>\n",
       "      <td>81.88</td>\n",
       "      <td>NaN</td>\n",
       "      <td>NaN</td>\n",
       "    </tr>\n",
       "    <tr>\n",
       "      <td>min</td>\n",
       "      <td>1.00</td>\n",
       "      <td>17.0</td>\n",
       "      <td>28.0</td>\n",
       "    </tr>\n",
       "    <tr>\n",
       "      <td>25%</td>\n",
       "      <td>1.00</td>\n",
       "      <td>17.0</td>\n",
       "      <td>28.0</td>\n",
       "    </tr>\n",
       "    <tr>\n",
       "      <td>50%</td>\n",
       "      <td>2.00</td>\n",
       "      <td>17.0</td>\n",
       "      <td>28.0</td>\n",
       "    </tr>\n",
       "    <tr>\n",
       "      <td>75%</td>\n",
       "      <td>5.00</td>\n",
       "      <td>17.0</td>\n",
       "      <td>28.0</td>\n",
       "    </tr>\n",
       "    <tr>\n",
       "      <td>max</td>\n",
       "      <td>444.00</td>\n",
       "      <td>17.0</td>\n",
       "      <td>28.0</td>\n",
       "    </tr>\n",
       "  </tbody>\n",
       "</table>\n",
       "</div>"
      ],
      "text/plain": [
       "       Confirmed  Deaths  Recovered\n",
       "count      29.00     1.0        1.0\n",
       "mean       19.14    17.0       28.0\n",
       "std        81.88     NaN        NaN\n",
       "min         1.00    17.0       28.0\n",
       "25%         1.00    17.0       28.0\n",
       "50%         2.00    17.0       28.0\n",
       "75%         5.00    17.0       28.0\n",
       "max       444.00    17.0       28.0"
      ]
     },
     "execution_count": 7,
     "metadata": {},
     "output_type": "execute_result"
    }
   ],
   "source": [
    "round(lista[0].describe(),2)"
   ]
  },
  {
   "cell_type": "markdown",
   "metadata": {},
   "source": [
    "### Criando as Listas que serão utilizadas para plotar o gráfico"
   ]
  },
  {
   "cell_type": "code",
   "execution_count": 8,
   "metadata": {},
   "outputs": [],
   "source": [
    "lista_mortos = []\n",
    "lista_casos_confirmados = []\n",
    "lista_recuperados = []\n",
    "\n",
    "for c in range(0,len(lista)):\n",
    "    lista_mortos.append((lista[c]['Deaths']).sum())\n",
    "    lista_casos_confirmados.append((lista[c]['Confirmed']).sum())\n",
    "    lista_recuperados.append((lista[c]['Recovered']).sum())"
   ]
  },
  {
   "cell_type": "markdown",
   "metadata": {},
   "source": [
    "### Plotando o Gráfico"
   ]
  },
  {
   "cell_type": "code",
   "execution_count": 9,
   "metadata": {
    "scrolled": false
   },
   "outputs": [
    {
     "data": {
      "image/png": "[encoded data removed]",
      "text/plain": [
       "<Figure size 748.8x514.8 with 1 Axes>"
      ]
     },
     "metadata": {
      "needs_background": "light"
     },
     "output_type": "display_data"
    }
   ],
   "source": [
    "import matplotlib.pyplot as plt\n",
    "x = [i for i in range(0, len(lista_mortos))]\n",
    "plt.style.use('seaborn-talk')\n",
    "y_mortos = lista_mortos\n",
    "y_casos_confirmados = lista_casos_confirmados\n",
    "y_recuperados = lista_recuperados\n",
    "plt.plot(x, y_mortos, color='red', label='Número de Mortos', linewidth=3.0)\n",
    "plt.plot(x, y_casos_confirmados, color='green', label='Casos Confirmados', linewidth=3.0)\n",
    "plt.plot(x, y_recuperados, color='blue', label='Curados', linewidth=3.0)\n",
    "plt.xlabel('Dias desde o 1° caso')\n",
    "plt.ylabel('Número de indivíduos')\n",
    "plt.title('Evolução do Corona Vírus no Mundo')\n",
    "#fig = plt.gcf()\n",
    "#fig.set_size_inches(10, 8)\n",
    "plt.grid(True)\n",
    "plt.legend(loc='upper center')\n",
    "plt.savefig('corona.png')\n",
    "plt.show()\n"
   ]
  },
  {
   "cell_type": "markdown",
   "metadata": {},
   "source": [
    "### Estilos Disponíveis"
   ]
  },
  {
   "cell_type": "code",
   "execution_count": 10,
   "metadata": {},
   "outputs": [
    {
     "data": {
      "text/plain": [
       "array([['bmh', 'classic', 'dark_background', 'fast', 'fivethirtyeight',\n",
       "        'ggplot', 'grayscale', 'seaborn-bright', 'seaborn-colorblind',\n",
       "        'seaborn-dark-palette', 'seaborn-dark', 'seaborn-darkgrid',\n",
       "        'seaborn-deep', 'seaborn-muted', 'seaborn-notebook',\n",
       "        'seaborn-paper', 'seaborn-pastel', 'seaborn-poster',\n",
       "        'seaborn-talk', 'seaborn-ticks', 'seaborn-white',\n",
       "        'seaborn-whitegrid', 'seaborn', 'Solarize_Light2',\n",
       "        'tableau-colorblind10', '_classic_test']], dtype='<U20')"
      ]
     },
     "execution_count": 10,
     "metadata": {},
     "output_type": "execute_result"
    }
   ],
   "source": [
    "#Para consultar os estilos disponíveis, rode esse código\n",
    "np.reshape(plt.style.available, (1,-1))"
   ]
  },
  {
   "cell_type": "markdown",
   "metadata": {},
   "source": [
    "### Criando outro Dataframe com os dados mais atuais"
   ]
  },
  {
   "cell_type": "code",
   "execution_count": 11,
   "metadata": {},
   "outputs": [],
   "source": [
    "dados_atuais = {'Número de Mortos':y_mortos[len(y_mortos)-1],\n",
    "                'Casos Confirmados':y_casos_confirmados[len(y_casos_confirmados)-1],\n",
    "                'Curados':y_recuperados[len(y_recuperados)-1]}"
   ]
  },
  {
   "cell_type": "code",
   "execution_count": 12,
   "metadata": {},
   "outputs": [],
   "source": [
    "dados_atuais = pd.DataFrame([dados_atuais])"
   ]
  },
  {
   "cell_type": "code",
   "execution_count": 13,
   "metadata": {},
   "outputs": [
    {
     "data": {
      "text/html": [
       "<div>\n",
       "<style scoped>\n",
       "    .dataframe tbody tr th:only-of-type {\n",
       "        vertical-align: middle;\n",
       "    }\n",
       "\n",
       "    .dataframe tbody tr th {\n",
       "        vertical-align: top;\n",
       "    }\n",
       "\n",
       "    .dataframe thead th {\n",
       "        text-align: right;\n",
       "    }\n",
       "</style>\n",
       "<table border=\"1\" class=\"dataframe\">\n",
       "  <thead>\n",
       "    <tr style=\"text-align: right;\">\n",
       "      <th></th>\n",
       "      <th>Número de Mortos</th>\n",
       "      <th>Casos Confirmados</th>\n",
       "      <th>Curados</th>\n",
       "    </tr>\n",
       "  </thead>\n",
       "  <tbody>\n",
       "    <tr>\n",
       "      <td>0</td>\n",
       "      <td>4720</td>\n",
       "      <td>128343</td>\n",
       "      <td>68324</td>\n",
       "    </tr>\n",
       "  </tbody>\n",
       "</table>\n",
       "</div>"
      ],
      "text/plain": [
       "   Número de Mortos  Casos Confirmados  Curados\n",
       "0              4720             128343    68324"
      ]
     },
     "execution_count": 13,
     "metadata": {},
     "output_type": "execute_result"
    }
   ],
   "source": [
    "dados_atuais"
   ]
  },
  {
   "cell_type": "markdown",
   "metadata": {},
   "source": [
    "### Calculando a Taxa de Mortalidade do Vírus"
   ]
  },
  {
   "cell_type": "code",
   "execution_count": 14,
   "metadata": {},
   "outputs": [
    {
     "data": {
      "text/html": [
       "<div>\n",
       "<style scoped>\n",
       "    .dataframe tbody tr th:only-of-type {\n",
       "        vertical-align: middle;\n",
       "    }\n",
       "\n",
       "    .dataframe tbody tr th {\n",
       "        vertical-align: top;\n",
       "    }\n",
       "\n",
       "    .dataframe thead th {\n",
       "        text-align: right;\n",
       "    }\n",
       "</style>\n",
       "<table border=\"1\" class=\"dataframe\">\n",
       "  <thead>\n",
       "    <tr style=\"text-align: right;\">\n",
       "      <th></th>\n",
       "      <th>Número de Mortos</th>\n",
       "      <th>Casos Confirmados</th>\n",
       "      <th>Curados</th>\n",
       "      <th>Taxa_Mortalidade(%)</th>\n",
       "    </tr>\n",
       "  </thead>\n",
       "  <tbody>\n",
       "    <tr>\n",
       "      <td>0</td>\n",
       "      <td>4720</td>\n",
       "      <td>128343</td>\n",
       "      <td>68324</td>\n",
       "      <td>3.677645</td>\n",
       "    </tr>\n",
       "  </tbody>\n",
       "</table>\n",
       "</div>"
      ],
      "text/plain": [
       "   Número de Mortos  Casos Confirmados  Curados  Taxa_Mortalidade(%)\n",
       "0              4720             128343    68324             3.677645"
      ]
     },
     "execution_count": 14,
     "metadata": {},
     "output_type": "execute_result"
    }
   ],
   "source": [
    "#Taxa de Mortalidade do vírus\n",
    "dados_atuais['Taxa_Mortalidade(%)'] = (dados_atuais['Número de Mortos']/dados_atuais['Casos Confirmados'])*100\n",
    "dados_atuais"
   ]
  },
  {
   "cell_type": "markdown",
   "metadata": {},
   "source": [
    "### Criando um Mapa de Calor com alguns lugares afetados pelo Vírus"
   ]
  },
  {
   "cell_type": "code",
   "execution_count": 15,
   "metadata": {},
   "outputs": [],
   "source": [
    "import folium\n",
    "from folium.plugins import HeatMap\n",
    "mapa = folium.Map(location=[10,10],zoom_start=1.5,tiles='Stamen Toner')\n",
    "locais = []\n",
    "\n",
    "for x,i in zip(lista[len(lista)-1]['Latitude'], lista[len(lista)-1]['Longitude']):\n",
    "    temp = [x,i]\n",
    "    locais.append(temp)\n",
    "HeatMap(locais, radius=20).add_to(mapa)\n",
    "mapa.save('corona_mapa.html')"
   ]
  },
  {
   "cell_type": "code",
   "execution_count": 16,
   "metadata": {},
   "outputs": [
    {
     "data": {
      "text/html": [
       "<div style=\"width:100%;\"><div style=\"position:relative;width:100%;height:0;padding-bottom:60%;\"><iframe src=\"data:text/html;charset=utf-8;base64,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\" style=\"position:absolute;width:100%;height:100%;left:0;top:0;border:none !important;\" allowfullscreen webkitallowfullscreen mozallowfullscreen></iframe></div></div>"
      ],
      "text/plain": [
       "<folium.folium.Map at 0x251262a4948>"
      ]
     },
     "execution_count": 16,
     "metadata": {},
     "output_type": "execute_result"
    }
   ],
   "source": [
    "mapa"
   ]
  }
 ],
 "metadata": {
  "kernelspec": {
   "display_name": "Python 3",
   "language": "python",
   "name": "python3"
  },
  "language_info": {
   "codemirror_mode": {
    "name": "ipython",
    "version": 3
   },
   "file_extension": ".py",
   "mimetype": "text/x-python",
   "name": "python",
   "nbconvert_exporter": "python",
   "pygments_lexer": "ipython3",
   "version": "3.7.6"
  }
 },
 "nbformat": 4,
 "nbformat_minor": 4
}
